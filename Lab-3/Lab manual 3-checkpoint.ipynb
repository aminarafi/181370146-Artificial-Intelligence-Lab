{
 "cells": [
  {
   "cell_type": "markdown",
   "id": "ec09923c",
   "metadata": {},
   "source": [
    "## Sum of Digits in a String\n",
    "Write a program that asks the user to enter a series of single-digit numbers with nothing\n",
    "separating them. The program should display the sum of all the single digit numbers in the\n",
    "string. For example, if the user enters 2514, the method should return 12, which is the sum\n",
    "of 2, 5, 1, and 4.\n"
   ]
  },
  {
   "cell_type": "code",
   "execution_count": 1,
   "id": "b37cf56d",
   "metadata": {},
   "outputs": [
    {
     "name": "stdout",
     "output_type": "stream",
     "text": [
      "Enter digits: 2514\n",
      "The sum of the digits:  2514 is  2\n",
      "The sum of the digits:  2514 is  7\n",
      "The sum of the digits:  2514 is  8\n",
      "The sum of the digits:  2514 is  12\n"
     ]
    }
   ],
   "source": [
    "num = input(\"Enter digits: \")\n",
    "total = 0\n",
    "for number in num:\n",
    "        total += int(number)\n",
    "        print(\"The sum of the digits: \" , num ,\"is \" , str(total))"
   ]
  },
  {
   "cell_type": "markdown",
   "id": "16f4ee2e",
   "metadata": {},
   "source": [
    "#### Morse Code Converter\n",
    "Morse code is a code where each letter of the English alphabet, each digit, and various\n",
    "punctuation characters are represented by a series of dots and dashes. Table 8-4 shows\n",
    "part of the code.\n",
    "Write a program that asks the user to enter a string, and then converts that string to Morse\n",
    "code.\n",
    "\n",
    "<br>\n",
    "<figure>\n",
    "  <img src='morseCode.png' alt = \"Morse Code Table\"/>\n",
    "  <center><figcaption>Fig:4 Morse Code Table</figcaption></center>\n",
    "</figure>\n",
    "<br>"
   ]
  },
  {
   "cell_type": "code",
   "execution_count": 5,
   "id": "f9306f7a",
   "metadata": {},
   "outputs": [
    {
     "name": "stdout",
     "output_type": "stream",
     "text": [
      "Enter String to convert to Morse code  GIFT\n",
      "--.....-.-\n"
     ]
    }
   ],
   "source": [
    "def to_morse_code(str):\n",
    "    code = { 'A':'.-', 'B':'-...','C':'-.-.', 'D':'-..', 'E':'.',\n",
    "            'F':'..-.', 'G':'--.', 'H':'....','I':'..', 'J':'.---', 'K':'-.-',\n",
    "            'L':'.-..', 'M':'--', 'N':'-.','O':'---', 'P':'.--.', 'Q':'--.-',\n",
    "            'R':'.-.', 'S':'...', 'T':'-','U':'..-', 'V':'...-', 'W':'.--',\n",
    "            'X':'-..-', 'Y':'-.--', 'Z':'--..','1':'.----', '2':'..---', '3':'...--',\n",
    "            '4':'....-', '5':'.....', '6':'-....','7':'--...', '8':'---..', '9':'----.',\n",
    "            '0':'-----', ', ':'--..--', '.':'.-.-.-','?':'..--..', '/':'-..-.', '-':'-....-',\n",
    "            '(':'-.--.', ')':'-.--.-'}\n",
    "    morse_code = \"\"\n",
    "    for y in str:\n",
    "        morse_code += code[y.upper()]\n",
    "    return morse_code\n",
    "\n",
    "str= input(\"Enter String to convert to Morse code  \")\n",
    "print(to_morse_code(str))"
   ]
  },
  {
   "cell_type": "markdown",
   "id": "b1f3981d",
   "metadata": {},
   "source": [
    "## Reverse Incremental String Slicing\n",
    "\n",
    "Sometimes, while working with Pythonn strings, we can have a problem in which we need to perform the slice and print of strings in reverse order. This can have application in day-day programming. So in this exercise write a program that reverse the string in incremental order.\n",
    "\n",
    "For Example:\n",
    "\n",
    "    Orignal String : GIFT\n",
    "    \n",
    "    Incremental reverse strings: ['T','TF','TFI','TFIG']"
   ]
  },
  {
   "cell_type": "code",
   "execution_count": 1,
   "id": "076e488c",
   "metadata": {},
   "outputs": [
    {
     "name": "stdout",
     "output_type": "stream",
     "text": [
      "Original string is: GIFT\n",
      "Incremental reverse strings: ['T', 'TF', 'TFI', 'TFIG']\n"
     ]
    }
   ],
   "source": [
    "test_str = \"GIFT\"\n",
    "  \n",
    "print(\"Original string is: \" + test_str)\n",
    "res = []\n",
    "sub = ''\n",
    "for chr in reversed(test_str):\n",
    "    sub += chr\n",
    "    res.append(sub)\n",
    "\n",
    "print(\"Incremental reverse strings: \" + str(res))"
   ]
  },
  {
   "cell_type": "markdown",
   "id": "52232dd5",
   "metadata": {},
   "source": [
    "\n",
    "## Alphabetic Telephone Number Translator\n",
    "\n",
    "Many companies use telephone numbers like 555-GET-FOOD so the number is easier for\n",
    "their customers to remember. On a standard telephone, the alphabetic letters are mapped\n",
    "to numbers in the following fashion:\n",
    "\n",
    "|Letters|Number|\n",
    "|---|---|\n",
    "|A, B, and C | 2\n",
    "|D, E, and F | 3\n",
    "|G, H, and I | 4\n",
    "|J, K, and L | 5\n",
    "|M, N, and O | 6\n",
    "|P, Q, R, and S | 7\n",
    "|T, U, and V | 8\n",
    "|W, X, Y, and Z | 9\n",
    "\n",
    "Write a program that asks the user to enter a 10-character telephone number in the format\n",
    "XXX-XXX-XXXX. The application should display the telephone number with any\n",
    "alphabetic characters that appeared in the original translated to their numeric equivalent.\n",
    "For example, if the user enters 555-GET-FOOD the application should display\n",
    "555-438-3663.\n"
   ]
  },
  {
   "cell_type": "code",
   "execution_count": 4,
   "id": "d743efd6",
   "metadata": {},
   "outputs": [
    {
     "name": "stdout",
     "output_type": "stream",
     "text": [
      "Enter the number in the format of XXX-XXX-XXXX: 555-GET-FOOD\n",
      "555-438-3663\n"
     ]
    }
   ],
   "source": [
    "phoneNum = input(\"Enter the number in the format of XXX-XXX-XXXX: \")\n",
    " \n",
    "NewNum= ''\n",
    " \n",
    "for var in phoneNum[1:2]:\n",
    "      for char in phoneNum:\n",
    "            if char.upper() in \"ABC\":\n",
    "                  char == '2'\n",
    "            elif char == 'D' or char == 'E' or char == 'F':\n",
    "                  char = '3'\n",
    "            elif char == 'G' or char == 'H' or char == 'I':\n",
    "                  char = '4'\n",
    "            elif char == 'J' or char == 'K' or char == 'L':\n",
    "                  char = '5'\n",
    "            elif char == 'M' or char == 'N' or char == 'O':\n",
    "                  char = '6'\n",
    "            elif char == 'P' or char == 'Q' or char == 'R' or char == 'S':\n",
    "                  char = '7'\n",
    "            elif char == 'T' or char == 'U' or char == 'V':\n",
    "                  char = '8'\n",
    "            elif char == 'W' or char == 'X' or char == 'Y' or char == 'Z':\n",
    "                  char = '9'\n",
    "            NewNum = NewNum + char\n",
    "print(NewNum)"
   ]
  },
  {
   "cell_type": "markdown",
   "id": "98d4ecdd",
   "metadata": {},
   "source": [
    "\n",
    "## Password Validation\n",
    "Assume that you are writing a program for a local software house. It is a password checker program. Two Python built-in functions you’ll need are ord(character) and chr(asciiNumber). ord(character) takes a character and returns its ascii value. In opposite fashion, chr(asciiValue) takes an ascii value and returns a character mapped on that ascii value. Following is ascii chart.\n",
    "\n",
    "<br>\n",
    "<figure>\n",
    "  <img src='asciiTable.png' alt = \"ASCII Code Table\"/>\n",
    "  <center><figcaption>Fig:5 ASCII Code Table</figcaption></center>\n",
    "</figure>\n",
    "<br>\n",
    "\n",
    "That particular software house sets the criteria of password as: A password is valid if and only if it has:\n",
    "* At least one lower case letter\n",
    "* At least one upper case letter\n",
    "* At least one special characters from the above given image.\n",
    "* At least one digit\n",
    "\n",
    "All other passwords are invalid. Use the functions described above to create this program.Summing up the program requirements: \n",
    "\n",
    "1. takes input as password from user\n",
    "2. Apply the described tests\n",
    "3. And prints whether the password is valid or invalid."
   ]
  },
  {
   "cell_type": "code",
   "execution_count": 6,
   "id": "c98716bd",
   "metadata": {},
   "outputs": [
    {
     "name": "stdout",
     "output_type": "stream",
     "text": [
      "Input your password :Amina\n",
      "Password is not valid\n",
      "The ASCII value of Password A is:  65\n",
      "The ASCII value of Password m is:  109\n",
      "The ASCII value of Password i is:  105\n",
      "The ASCII value of Password n is:  110\n",
      "The ASCII value of Password a is:  97\n"
     ]
    }
   ],
   "source": [
    "import re\n",
    "password = input(\"Input your password :\")\n",
    "num = True\n",
    "while num:  \n",
    "    if (len(password)<6 or len(password)>12):\n",
    "        break\n",
    "    elif not re.search(\"[a-z]\",password):\n",
    "        break\n",
    "    elif not re.search(\"[0-9]\",password):\n",
    "        break\n",
    "    elif not re.search(\"[A-Z]\",password):\n",
    "        break\n",
    "    elif not re.search(\"[$#@]\",password):\n",
    "        break\n",
    "    elif re.search(\"\\s\",password):\n",
    "        break\n",
    "    else:\n",
    "        print(\"Valid Password\")\n",
    "        num=False\n",
    "        break\n",
    "\n",
    "if num:\n",
    "    print(\"Password is not valid\")\n",
    "\n",
    "for result in password:\n",
    "\n",
    "    print(\"The ASCII value of Password \" + result + \" is: \", ord(result))"
   ]
  },
  {
   "cell_type": "markdown",
   "id": "eea2730b",
   "metadata": {},
   "source": [
    "\n",
    "\n",
    "## Sentence Capitalizer\n",
    "Write a program with a function that accepts a string as an argument and returns a copy of\n",
    "the string with the first character of each sentence capitalized. For instance, if the argument\n",
    "is “hello. my name is Joe. what is your name?” the function should return the string “Hello.\n",
    "My name is Joe. What is your name?” The program should let the user enter a string and\n",
    "then pass it to the function. The modified string should be displayed."
   ]
  },
  {
   "cell_type": "code",
   "execution_count": 10,
   "id": "124dcff0",
   "metadata": {},
   "outputs": [
    {
     "name": "stdout",
     "output_type": "stream",
     "text": [
      "Enter Sentence: Hello. My name is Amina. What is your name?\n",
      "Hello. My name is Amina. What is your name?\n"
     ]
    }
   ],
   "source": [
    "def sentenceCapitalizer (string1: str):\n",
    "    sentences = string1.split(\". \")\n",
    "    sentences2 = [sentence[0].capitalize() + sentence[1:] for sentence in sentences]\n",
    "    string2 = '. '.join(sentences2)\n",
    "    return string2\n",
    "\n",
    "text = input(\"Enter Sentence: \")\n",
    "print (sentenceCapitalizer(text))"
   ]
  },
  {
   "cell_type": "markdown",
   "id": "47878c91",
   "metadata": {},
   "source": [
    "    \n",
    "\n",
    "## Pig Latin\n",
    "\n",
    "Write a program that accepts a sentence as input and converts each word to “Pig Latin.” In\n",
    "one version, to convert a word to Pig Latin you remove the first letter and place that letter\n",
    "at the end of the word. Then you append the string “ay” to the word. Here is an example:\n",
    "\n",
    "    English: I SLEPT MOST OF THE NIGHT\n",
    "    Pig Latin: IAY LEPTSAY OSTMAY FOAY HETAY IGHTNAY"
   ]
  },
  {
   "cell_type": "code",
   "execution_count": 15,
   "id": "6c79a98f",
   "metadata": {},
   "outputs": [
    {
     "name": "stdout",
     "output_type": "stream",
     "text": [
      "English: I SLEPT MOST OF THE NIGHT\n",
      "IAY LEPTSAY OSTMAY FOAY HETAY IGHTNAY \n"
     ]
    }
   ],
   "source": [
    "def main():\n",
    "    words = str(input(\"English: \")).split()\n",
    "    for word in words:\n",
    "        print(word[1:] + word[0] + \"AY\", end = \" \")\n",
    "    print ()\n",
    "main()"
   ]
  }
 ],
 "metadata": {
  "kernelspec": {
   "display_name": "Python 3",
   "language": "python",
   "name": "python3"
  },
  "language_info": {
   "codemirror_mode": {
    "name": "ipython",
    "version": 3
   },
   "file_extension": ".py",
   "mimetype": "text/x-python",
   "name": "python",
   "nbconvert_exporter": "python",
   "pygments_lexer": "ipython3",
   "version": "3.8.8"
  }
 },
 "nbformat": 4,
 "nbformat_minor": 5
}
