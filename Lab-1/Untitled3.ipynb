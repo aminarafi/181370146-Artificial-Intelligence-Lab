{
 "cells": [
  {
   "cell_type": "markdown",
   "id": "1c7923cc",
   "metadata": {},
   "source": [
    "## Stock Transation Program\n",
    "Last month Joe purchased some stock in Acme Software, Inc. Here are the details of the\n",
    "purchase:\n",
    "* The number of shares that Joe purchased was 2,000.\n",
    "* When Joe purchased the stock, he paid 40.00 Dollar per share.\n",
    "* Joe paid his stockbroker a commission that amounted to 3 percent of the amount he paid for the stock.\n",
    "\n",
    "Two weeks later Joe sold the stock. Here are the details of the sale:\n",
    "* The number of shares that Joe sold was 2,000.\n",
    "* He sold the stock for 42.75 Dollar per share.\n",
    "* He paid his stockbroker another commission that amounted to 3 percent of the amount he received for the stock.\n",
    "\n",
    "Write a program that displays the following information:\n",
    "* The amount of money Joe paid for the stock.\n",
    "* The amount of commission Joe paid his broker when he bought the stock.\n",
    "* The amount that Joe sold the stock for.\n",
    "* The amount of commission Joe paid his broker when he sold the stock.\n",
    "* Display the amount of money that Joe had left when he sold the stock and paid his broker (both times). If this amount is positive, then Joe made a profit. If the amount is negative, then Joe lost money."
   ]
  },
  {
   "cell_type": "code",
   "execution_count": 4,
   "id": "b4c3d7e3",
   "metadata": {},
   "outputs": [
    {
     "name": "stdout",
     "output_type": "stream",
     "text": [
      "\n",
      "Amount of money paid for the stock = $ 80,000.00\n",
      "Amount of commission paid to broker when Joe bought the stock = $ 2,400.00\n",
      "Amount for which Joe sold the stock = $ 85,500.00\n",
      "Amount of commission paid to broker when Joe sold the stock = $ 2,565.00\n",
      "Total Leftover = 80,535.00 \n",
      "Joe made a profit.\n",
      "\n"
     ]
    }
   ],
   "source": [
    "amount_paid_for_stock = 2000 * 40.00\n",
    "print(\"\\nAmount of money paid for the stock = $\", \n",
    "       format(amount_paid_for_stock, ',.2f'))\n",
    "commission_paid_when_bought = amount_paid_for_stock * 0.03\n",
    "print('Amount of commission paid to broker when Joe bought the stock = $', \n",
    "       format(commission_paid_when_bought, ',.2f'))\n",
    "price_per_share = 42.75\n",
    "amount_stock_sold_for = 2000 * 42.75\n",
    "print(\"Amount for which Joe sold the stock = $\", \n",
    "       format(amount_stock_sold_for, ',.2f'))\n",
    "commission_paid_when_sold = amount_stock_sold_for *0.03\n",
    "print('Amount of commission paid to broker when Joe sold the stock = $',\n",
    "       format(commission_paid_when_sold, ',.2f'))\n",
    "\n",
    "total_amount_left = amount_stock_sold_for - \\\n",
    "                   (commission_paid_when_bought + \\\n",
    "                    commission_paid_when_sold)\n",
    "\n",
    "print(\"Total Leftover =\", \n",
    "      format(total_amount_left, ',.2f'), '\\nJoe made a profit.\\n')\n"
   ]
  },
  {
   "cell_type": "code",
   "execution_count": null,
   "id": "858de689",
   "metadata": {},
   "outputs": [],
   "source": []
  }
 ],
 "metadata": {
  "kernelspec": {
   "display_name": "Python 3",
   "language": "python",
   "name": "python3"
  },
  "language_info": {
   "codemirror_mode": {
    "name": "ipython",
    "version": 3
   },
   "file_extension": ".py",
   "mimetype": "text/x-python",
   "name": "python",
   "nbconvert_exporter": "python",
   "pygments_lexer": "ipython3",
   "version": "3.8.8"
  }
 },
 "nbformat": 4,
 "nbformat_minor": 5
}
