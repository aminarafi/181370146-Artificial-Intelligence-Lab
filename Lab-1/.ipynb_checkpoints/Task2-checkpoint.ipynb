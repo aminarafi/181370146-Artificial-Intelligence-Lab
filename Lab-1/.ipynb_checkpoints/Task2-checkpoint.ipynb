{
 "cells": [
  {
   "cell_type": "markdown",
   "id": "08db80e2",
   "metadata": {},
   "source": [
    "## Tip, Tax and Total\n",
    "Write a program that calculates the total amount of a meal purchased at a restaurant. The\n",
    "program should ask the user to enter the charge for the food, and then calculate the amount\n",
    "of a 18 percent tip and 7 percent sales tax. Display each of these amounts and the total."
   ]
  },
  {
   "cell_type": "code",
   "execution_count": 1,
   "id": "7a24129c",
   "metadata": {},
   "outputs": [
    {
     "name": "stdout",
     "output_type": "stream",
     "text": [
      "Enter the total amount of meal: $1000\n",
      "Tip:  $ 180.0\n",
      "Tax:  $ 7000.0\n",
      "Total:  $ 8180.0\n"
     ]
    }
   ],
   "source": [
    "cost = float(input(\"Enter the total amount of meal: $\"))\n",
    "tip = cost * 0.18\n",
    "tax = cost * 7\n",
    "total = cost + tip +tax\n",
    "print(\"Tip:  $\" , tip)\n",
    "print(\"Tax:  $\" , tax)\n",
    "print(\"Total:  $\" , total)"
   ]
  }
 ],
 "metadata": {
  "kernelspec": {
   "display_name": "Python 3",
   "language": "python",
   "name": "python3"
  },
  "language_info": {
   "codemirror_mode": {
    "name": "ipython",
    "version": 3
   },
   "file_extension": ".py",
   "mimetype": "text/x-python",
   "name": "python",
   "nbconvert_exporter": "python",
   "pygments_lexer": "ipython3",
   "version": "3.8.8"
  }
 },
 "nbformat": 4,
 "nbformat_minor": 5
}
