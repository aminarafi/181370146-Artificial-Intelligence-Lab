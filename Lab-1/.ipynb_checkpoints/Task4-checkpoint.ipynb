{
 "cells": [
  {
   "cell_type": "markdown",
   "id": "11f09a09",
   "metadata": {},
   "source": [
    "## Male and Female Percentages\n",
    "Write a program that asks the user for the number of males and the number of females registered\n",
    "in a class. The program should display the percentage of males and females in the class.\n",
    "\n",
    "*Hint: Suppose there are 8 males and 12 females in a class. There are 20 students in the\n",
    "class. The percentage of males can be calculated as 8 4 20 5 0.4, or 40%. The percentage\n",
    "of females can be calculated as 12 4 20 5 0.6, or 60%.*"
   ]
  },
  {
   "cell_type": "code",
   "execution_count": 1,
   "id": "4f2dfaba",
   "metadata": {},
   "outputs": [
    {
     "name": "stdout",
     "output_type": "stream",
     "text": [
      "Please enter tne number of males in class: 20\n",
      "Please enter tne number of females in class: 28\n",
      "There are 48 students in class. 42% of them are females and 58% of them are females. \n"
     ]
    }
   ],
   "source": [
    "males = int(input (\"Please enter tne number of males in class: \"))\n",
    "females = int(input (\"Please enter tne number of females in class: \"))\n",
    "total_students = males+females\n",
    "males_per = males/total_students\n",
    "females_per = females/total_students\n",
    "print(\"There are \" + str(total_students )+ \" students in class. \" +\\\n",
    "    format(males_per , \".0%\") + \" of them are females and \" +\\\n",
    "     format(females_per , \".0%\") + \" of them are females. \" )"
   ]
  },
  {
   "cell_type": "code",
   "execution_count": null,
   "id": "d366ebf1",
   "metadata": {},
   "outputs": [],
   "source": []
  }
 ],
 "metadata": {
  "kernelspec": {
   "display_name": "Python 3",
   "language": "python",
   "name": "python3"
  },
  "language_info": {
   "codemirror_mode": {
    "name": "ipython",
    "version": 3
   },
   "file_extension": ".py",
   "mimetype": "text/x-python",
   "name": "python",
   "nbconvert_exporter": "python",
   "pygments_lexer": "ipython3",
   "version": "3.8.8"
  }
 },
 "nbformat": 4,
 "nbformat_minor": 5
}
