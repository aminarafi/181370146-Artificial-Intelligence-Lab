{
 "cells": [
  {
   "cell_type": "markdown",
   "id": "2760a9ef",
   "metadata": {},
   "source": [
    "## Ingredient Adjuster\n",
    "\n",
    "A cookie recipe calls for the following ingredients:\n",
    "* 1.5 cups of sugar\n",
    "* 1 cup of butter\n",
    "* 2.75 cups of flour\n",
    "\n",
    "The recipe produces 48 cookies with this amount of the ingredients. Write a program that\n",
    "asks the user how many cookies he or she wants to make, and then displays the number of\n",
    "cups of each ingredient needed for the specified number of cookies."
   ]
  },
  {
   "cell_type": "code",
   "execution_count": 1,
   "id": "11accef9",
   "metadata": {},
   "outputs": [
    {
     "name": "stdout",
     "output_type": "stream",
     "text": [
      "How many cookies do you want to make? 60\n",
      "Here are the amounts neended:\n",
      "1.88 cups of sugar\n",
      "1.25 cups of butter\n",
      "3.44 cups of flour\n"
     ]
    }
   ],
   "source": [
    "sugar_in_48_cookies = 1.5 #cup\n",
    "butter_in_48_cookies = 1\n",
    "flour_in_48_cookies = 2.75\n",
    "num_of_cookies = int(input(\"How many cookies do you want to make? \"))\n",
    "sugar_needed = (sugar_in_48_cookies/48) * num_of_cookies\n",
    "butter_needed = (butter_in_48_cookies/48) * num_of_cookies\n",
    "flour_needed = (flour_in_48_cookies/48) * num_of_cookies\n",
    "print(\"Here are the amounts neended:\")\n",
    "print(format(sugar_needed, '.2f'),\"cups of sugar\")\n",
    "print(format(butter_needed, '.2f'),\"cups of butter\")\n",
    "print(format(flour_needed, '.2f'),\"cups of flour\")"
   ]
  },
  {
   "cell_type": "code",
   "execution_count": null,
   "id": "b7f2a5b1",
   "metadata": {},
   "outputs": [],
   "source": []
  }
 ],
 "metadata": {
  "kernelspec": {
   "display_name": "Python 3",
   "language": "python",
   "name": "python3"
  },
  "language_info": {
   "codemirror_mode": {
    "name": "ipython",
    "version": 3
   },
   "file_extension": ".py",
   "mimetype": "text/x-python",
   "name": "python",
   "nbconvert_exporter": "python",
   "pygments_lexer": "ipython3",
   "version": "3.8.8"
  }
 },
 "nbformat": 4,
 "nbformat_minor": 5
}
