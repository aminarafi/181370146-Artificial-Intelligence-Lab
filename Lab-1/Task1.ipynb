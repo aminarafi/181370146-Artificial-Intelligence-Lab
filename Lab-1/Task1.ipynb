{
 "cells": [
  {
   "cell_type": "markdown",
   "id": "ecc837db",
   "metadata": {},
   "source": [
    "\n",
    "## Sales Tax\n",
    "Write a program that will ask the user to enter the amount of a purchase. The program\n",
    "should then compute the state and county sales tax. Assume the state sales tax is 5 percent\n",
    "and the county sales tax is 2.5 percent. The program should display the following:\n",
    "* The amount of the purchase\n",
    "* The state sales tax\n",
    "* The county sales tax\n",
    "* The total sales tax\n",
    "* and the total of the sale (which is the sum of the amount of purchase plus the total sales tax).\n"
   ]
  },
  {
   "cell_type": "code",
   "execution_count": 1,
   "id": "0e2b4b85",
   "metadata": {},
   "outputs": [
    {
     "name": "stdout",
     "output_type": "stream",
     "text": [
      "Enter the amount of purchase: 500\n",
      "State sales tax: $ 25.0\n",
      "County sales tax: $ 12.5\n",
      "Total sales tax: $ 25.0\n",
      "Total: $ 537.5\n"
     ]
    }
   ],
   "source": [
    "amount =float(input(\"Enter the amount of purchase: \"))\n",
    "state_tax = amount *0.05\n",
    "county_tax = amount *0.025\n",
    "total_tax = state_tax + county_tax\n",
    "sales_total = amount + total_tax\n",
    "print(\"State sales tax: $\", state_tax)\n",
    "print(\"County sales tax: $\", county_tax)\n",
    "print(\"Total sales tax: $\", state_tax)\n",
    "print(\"Total: $\", sales_total)"
   ]
  }
 ],
 "metadata": {
  "kernelspec": {
   "display_name": "Python 3",
   "language": "python",
   "name": "python3"
  },
  "language_info": {
   "codemirror_mode": {
    "name": "ipython",
    "version": 3
   },
   "file_extension": ".py",
   "mimetype": "text/x-python",
   "name": "python",
   "nbconvert_exporter": "python",
   "pygments_lexer": "ipython3",
   "version": "3.8.8"
  }
 },
 "nbformat": 4,
 "nbformat_minor": 5
}
