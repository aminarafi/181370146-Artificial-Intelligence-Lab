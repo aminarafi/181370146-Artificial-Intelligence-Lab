{
 "cells": [
  {
   "cell_type": "markdown",
   "metadata": {},
   "source": [
    "<center> <h1> Python Fundamentals </h1> </center>"
   ]
  },
  {
   "cell_type": "markdown",
   "metadata": {},
   "source": [
    "# What is Python?\n",
    "![Title](python-logo-master-v3-TM.png)\n",
    "Python is a high-level programming language, and its core design philosophy is all about code readability and a syntax which allows programmers to express concepts in a few lines of code.!\n",
    "\n",
    "Python is designed by Guido Von Rossum \n",
    "\n",
    "\n"
   ]
  },
  {
   "cell_type": "markdown",
   "metadata": {},
   "source": [
    "## Python Advantages\n",
    "- Readable\n",
    "- Productive\n",
    "- Portable\n",
    "- Rich Libraries\n",
    "- Ease of Learning"
   ]
  },
  {
   "cell_type": "markdown",
   "metadata": {},
   "source": [
    "## Use Cases of Python\n",
    "- Artificial Intelligence \n",
    "- Web Development\n",
    "- Data Analysis\n",
    "- IoT\n",
    "- Web Scraping \n",
    "- Computer Vision\n",
    "- Machine Learning\n",
    "- Game Development\n",
    "- Desktop Development"
   ]
  },
  {
   "cell_type": "markdown",
   "metadata": {},
   "source": [
    "# Print Statement\n",
    "We use the ```print()``` function when you want to print a message/output to console. The ```print()``` function actually tries to print whatever you pass to it:\n",
    "- when it is given a _string_ it will print a _string_\n",
    "- if it is given an _integer_ such as 44 it will print 44\n",
    "- if it is given a _floating_ point number such as 20.3 it will print 20.3"
   ]
  },
  {
   "cell_type": "code",
   "execution_count": 2,
   "metadata": {},
   "outputs": [
    {
     "name": "stdout",
     "output_type": "stream",
     "text": [
      "Welcome to CS-468 Artificial Intelligence Lab\n"
     ]
    }
   ],
   "source": [
    "# print a message\n",
    "print(\"Welcome to CS-468 Artificial Intelligence Lab\")"
   ]
  },
  {
   "cell_type": "code",
   "execution_count": 3,
   "metadata": {},
   "outputs": [
    {
     "name": "stdout",
     "output_type": "stream",
     "text": [
      "This message is in single quoted string\n"
     ]
    }
   ],
   "source": [
    "# another example of printing a message\n",
    "print('This message is in single quoted string')"
   ]
  },
  {
   "cell_type": "markdown",
   "metadata": {},
   "source": [
    "__Note:__ You can use either single quotes or double quotes to display textual information. As a good practice, just stick to one convention. Double quotes are preferred. "
   ]
  },
  {
   "cell_type": "code",
   "execution_count": 4,
   "metadata": {},
   "outputs": [
    {
     "name": "stdout",
     "output_type": "stream",
     "text": [
      "22\n"
     ]
    }
   ],
   "source": [
    "# printing an integer\n",
    "print(22)"
   ]
  },
  {
   "cell_type": "code",
   "execution_count": 5,
   "metadata": {},
   "outputs": [
    {
     "name": "stdout",
     "output_type": "stream",
     "text": [
      "33.3333333\n"
     ]
    }
   ],
   "source": [
    "# printing a floating point number\n",
    "print(33.3333333)"
   ]
  },
  {
   "cell_type": "markdown",
   "metadata": {},
   "source": [
    "# Comments\n",
    "A programmer’s comment (usually called a comment for short) is text in the program that does nothing. Which brings up the question . . .” If it doesn’t do anything, then why type it in?” As a learner, you can use comments in your code as notes to yourself about what the code is doing. These can help a lot when you’re first learning.\n",
    "\n",
    "- Comments are a way of documenting your code\n",
    "- Comments are ignored by Python\n",
    "- A comment can help you figure out your code when you come back to it a month or a year later\n",
    "\n",
    "### Syntax\n",
    "- Single Line Comments start with a pound `#` sign\n",
    "- Multi-line comments must be enclosed in ```\"\"\"``` triple quotes"
   ]
  },
  {
   "cell_type": "code",
   "execution_count": 6,
   "metadata": {},
   "outputs": [],
   "source": [
    "# this is an example of single line comment"
   ]
  },
  {
   "cell_type": "code",
   "execution_count": null,
   "metadata": {},
   "outputs": [],
   "source": [
    "# print(\"Hey!\")"
   ]
  },
  {
   "cell_type": "code",
   "execution_count": 8,
   "metadata": {},
   "outputs": [
    {
     "data": {
      "text/plain": [
       "'\\nThis is a multiline comment in Python\\nThis type of comment is sometimes called a docstring.\\nA docstring starts with three double-quotation marks and also ends with\\nthree double quotation marks\\n'"
      ]
     },
     "execution_count": 8,
     "metadata": {},
     "output_type": "execute_result"
    }
   ],
   "source": [
    "\"\"\"\n",
    "This is a multiline comment in Python\n",
    "This type of comment is sometimes called a docstring.\n",
    "A docstring starts with three double-quotation marks and also ends with\n",
    "three double quotation marks\n",
    "\"\"\""
   ]
  },
  {
   "cell_type": "markdown",
   "metadata": {},
   "source": [
    "<h1> Understanding Python Data Types </h1>\n",
    "\n",
    "A data type is a __set of values__ and a __set of operations__ defined on them.\n",
    "\n",
    "Some common data types in Python are:\n",
    "- Integer ```<int>``` (2, -3, 0, 20203)\n",
    "- Float ```<float>``` (3.2, 6.3, -9.333)\n",
    "- Boolean ```<bool>``` (True, False)\n",
    "- String ```<str>``` (‘Hi’, ‘a’ , “String”)\n",
    "- Complex ```<complex>``` (1+2j)\n",
    "\n"
   ]
  },
  {
   "cell_type": "markdown",
   "metadata": {},
   "source": [
    "## Numbers and Arithmetics\n",
    "Python has two basic number types, integer and float\n",
    "\n",
    "For example, 2 is an integer and 2.0 is a floating point number which has a decimal attached to it. We\n",
    "can perform arithmetic operations to either of these numbers types. Let’s try!\n",
    "\n",
    "### Arithmetic Operators\n",
    "|Symbol  |Operator| Description|\n",
    "|:-------|:-------|:-----------|\n",
    "| +      |Addition|Adds two or more numbers|\n",
    "| -      |Subtraction|Subtracts one number from another|\n",
    "| *      |Multiplication|Multiplies one number by another|\n",
    "| /      |Division|Divides one number by another and gives the result as a floating-point number|\n",
    "| //     |Integer Division| Divides one number by another and gives the result as an integer|\n",
    "| %      |Remainder|Divides one number by another and gives the remainder|\n",
    "|**      |Exponenet|Raises a number to a power|"
   ]
  },
  {
   "cell_type": "code",
   "execution_count": 1,
   "metadata": {
    "scrolled": true
   },
   "outputs": [
    {
     "data": {
      "text/plain": [
       "7"
      ]
     },
     "execution_count": 1,
     "metadata": {},
     "output_type": "execute_result"
    }
   ],
   "source": [
    "# addition\n",
    "5 + 2"
   ]
  },
  {
   "cell_type": "code",
   "execution_count": 2,
   "metadata": {},
   "outputs": [
    {
     "data": {
      "text/plain": [
       "3"
      ]
     },
     "execution_count": 2,
     "metadata": {},
     "output_type": "execute_result"
    }
   ],
   "source": [
    "# Subtraction \n",
    "5 - 2"
   ]
  },
  {
   "cell_type": "code",
   "execution_count": 3,
   "metadata": {
    "scrolled": true
   },
   "outputs": [
    {
     "data": {
      "text/plain": [
       "10"
      ]
     },
     "execution_count": 3,
     "metadata": {},
     "output_type": "execute_result"
    }
   ],
   "source": [
    "# multiplication\n",
    "5 * 2\n"
   ]
  },
  {
   "cell_type": "markdown",
   "metadata": {},
   "source": [
    "With a forward slash, we can divide numbers in Python (note, two integers are giving floating point in\n",
    "results)."
   ]
  },
  {
   "cell_type": "markdown",
   "metadata": {},
   "source": [
    "*If you are using Python 2, you need to add 2.0 in the expression (e.g. 5 / 2.0) to get the same results.*"
   ]
  },
  {
   "cell_type": "code",
   "execution_count": 6,
   "metadata": {},
   "outputs": [
    {
     "data": {
      "text/plain": [
       "2.5"
      ]
     },
     "execution_count": 6,
     "metadata": {},
     "output_type": "execute_result"
    }
   ],
   "source": [
    "# Division\n",
    "5/2"
   ]
  },
  {
   "cell_type": "code",
   "execution_count": 5,
   "metadata": {},
   "outputs": [
    {
     "data": {
      "text/plain": [
       "2"
      ]
     },
     "execution_count": 5,
     "metadata": {},
     "output_type": "execute_result"
    }
   ],
   "source": [
    "# Integer Division\n",
    "5//2"
   ]
  },
  {
   "cell_type": "markdown",
   "metadata": {},
   "source": [
    "We can compute the power of a number (exponent) with two Asterix ** together"
   ]
  },
  {
   "cell_type": "code",
   "execution_count": 5,
   "metadata": {},
   "outputs": [
    {
     "data": {
      "text/plain": [
       "25"
      ]
     },
     "execution_count": 5,
     "metadata": {},
     "output_type": "execute_result"
    }
   ],
   "source": [
    "5 ** 2"
   ]
  },
  {
   "cell_type": "markdown",
   "metadata": {},
   "source": [
    "Python follow the order of arithmetic operations, for example: for 1 + 2 * 3 + 4 Python will first multiply\n",
    "2 & 3 then perform the other operations."
   ]
  },
  {
   "cell_type": "code",
   "execution_count": 6,
   "metadata": {},
   "outputs": [
    {
     "data": {
      "text/plain": [
       "11"
      ]
     },
     "execution_count": 6,
     "metadata": {},
     "output_type": "execute_result"
    }
   ],
   "source": [
    "1 + 2 * 3 + 4"
   ]
  },
  {
   "cell_type": "markdown",
   "metadata": {},
   "source": [
    "A good practice is to use parentheses \"( )\" to tell the Python, which operation needs to be performed\n",
    "and to clarify the order. The operations in the parentheses will be performed first."
   ]
  },
  {
   "cell_type": "code",
   "execution_count": 7,
   "metadata": {},
   "outputs": [
    {
     "data": {
      "text/plain": [
       "21"
      ]
     },
     "execution_count": 7,
     "metadata": {},
     "output_type": "execute_result"
    }
   ],
   "source": [
    "(1 + 2) * (3 + 4)"
   ]
  },
  {
   "cell_type": "markdown",
   "metadata": {},
   "source": [
    "**Modulus** or **mod** operation is a “%” (percentage sign) in Python. It returns what remains after a division.\n",
    "*With mod operation, we can check if the number is even or odd. Mod (%) returns 0, for even number and returns\n",
    "1 for odd numbers.*"
   ]
  },
  {
   "cell_type": "code",
   "execution_count": 8,
   "metadata": {},
   "outputs": [
    {
     "data": {
      "text/plain": [
       "0"
      ]
     },
     "execution_count": 8,
     "metadata": {},
     "output_type": "execute_result"
    }
   ],
   "source": [
    "6 % 2 # returns 0, 6 is even no."
   ]
  },
  {
   "cell_type": "code",
   "execution_count": 9,
   "metadata": {},
   "outputs": [
    {
     "data": {
      "text/plain": [
       "1"
      ]
     },
     "execution_count": 9,
     "metadata": {},
     "output_type": "execute_result"
    }
   ],
   "source": [
    "5 % 2 # returns 1, 5 is odd no. (if we divide 5 by 2, remainder is 1)"
   ]
  },
  {
   "cell_type": "markdown",
   "metadata": {},
   "source": [
    "# Variables:\n",
    "* Variables are containers for storing data values.\n",
    "\n",
    "* Unlike other programming languages, Python has no command for declaring a variable.\n",
    "\n",
    "* A variable is created the moment you first assign a value to it.\n",
    "\n",
    "At many occasions, we pick a variable with some name and assign object or a data type to\n",
    "that variable. We can do this in Python using equal sign operator \"=\". For example, if we assign a value\n",
    "of 5 to a variable \"x\", whenever we call x, this will return 5 in the output."
   ]
  },
  {
   "cell_type": "markdown",
   "metadata": {},
   "source": [
    "It is a common practice to create a **variable with multiple names**. A good way is to separate\n",
    "them with underscore **“_” between the words**. By doing this, you will easily identify the variables e.g.\n",
    "total_profit, total_loss, first_name etc."
   ]
  },
  {
   "cell_type": "code",
   "execution_count": 10,
   "metadata": {
    "collapsed": true
   },
   "outputs": [],
   "source": [
    "name_of_the_variable = 20"
   ]
  },
  {
   "cell_type": "code",
   "execution_count": 11,
   "metadata": {},
   "outputs": [
    {
     "data": {
      "text/plain": [
       "20"
      ]
     },
     "execution_count": 11,
     "metadata": {},
     "output_type": "execute_result"
    }
   ],
   "source": [
    "name_of_the_variable"
   ]
  },
  {
   "cell_type": "markdown",
   "metadata": {},
   "source": [
    "Important regarding variable name: Before we move on to the next data type, we should know that,\n",
    "in Python:\n",
    "* variable name can not be started with number (e.g. 1var, 2x etc)\n",
    "* variable name can not be started with special characters (e.g. !, @, #,!y,+,- etc)\n",
    "* variable name are case sensitive, \"Name\" is not the same as \"name\"\n",
    "* reserved words can not be a variable name, e.g. \"class\" is a reserve word in Python, it can not be used as a variable name, but \"klass\" and \"Class\" work fine."
   ]
  },
  {
   "cell_type": "code",
   "execution_count": 12,
   "metadata": {
    "collapsed": true
   },
   "outputs": [],
   "source": [
    "# Let's try x = 5 and y = 3\n",
    "x = 5\n",
    "y = 3"
   ]
  },
  {
   "cell_type": "code",
   "execution_count": 13,
   "metadata": {},
   "outputs": [
    {
     "data": {
      "text/plain": [
       "5"
      ]
     },
     "execution_count": 13,
     "metadata": {},
     "output_type": "execute_result"
    }
   ],
   "source": [
    "# what is x now!\n",
    "x"
   ]
  },
  {
   "cell_type": "code",
   "execution_count": 14,
   "metadata": {},
   "outputs": [
    {
     "data": {
      "text/plain": [
       "3"
      ]
     },
     "execution_count": 14,
     "metadata": {},
     "output_type": "execute_result"
    }
   ],
   "source": [
    "# what is y now!\n",
    "y"
   ]
  },
  {
   "cell_type": "markdown",
   "metadata": {},
   "source": [
    "## Assignment Operator\n",
    "The ```=``` sign in the assignment operator is so named because it assigns the value (on \n",
    "the right) to the variable (on the left). For example:"
   ]
  },
  {
   "cell_type": "code",
   "execution_count": null,
   "metadata": {},
   "outputs": [],
   "source": [
    "a = 20"
   ]
  },
  {
   "cell_type": "markdown",
   "metadata": {},
   "source": [
    "In the above example, we are storing the number 20 in a variable named ```x```. Or, in other words, we’re \n",
    "assigning the value 10 to the variable named ```x```"
   ]
  },
  {
   "cell_type": "markdown",
   "metadata": {},
   "source": [
    "### Simultaneous Assignment\n",
    "Python allows simultaneous assignment. \n",
    "\n",
    "#### Syntax\n",
    "```python\n",
    "    var1, var2, var3,... = val1, val2, val3,...\n",
    "```\n",
    "This is called simultaneous assignment. Semantically, this tells Python to evaluate all the expressions on the right-hand side and then assign these values to the corresponding variables named on the left-hand side!\n"
   ]
  },
  {
   "cell_type": "markdown",
   "metadata": {},
   "source": [
    "We can perform arithmetic operations using these variable."
   ]
  },
  {
   "cell_type": "code",
   "execution_count": 15,
   "metadata": {},
   "outputs": [
    {
     "data": {
      "text/plain": [
       "8"
      ]
     },
     "execution_count": 15,
     "metadata": {},
     "output_type": "execute_result"
    }
   ],
   "source": [
    "# Adding x and y\n",
    "x + y"
   ]
  },
  {
   "cell_type": "code",
   "execution_count": 16,
   "metadata": {},
   "outputs": [
    {
     "data": {
      "text/plain": [
       "15"
      ]
     },
     "execution_count": 16,
     "metadata": {},
     "output_type": "execute_result"
    }
   ],
   "source": [
    "# Multiplying x and y\n",
    "x * y"
   ]
  },
  {
   "cell_type": "markdown",
   "metadata": {},
   "source": [
    "After performing any arithmetic operation, we can assign the result to a new variable."
   ]
  },
  {
   "cell_type": "code",
   "execution_count": 17,
   "metadata": {
    "collapsed": true
   },
   "outputs": [],
   "source": [
    "# Subtraction of the variables and assigning the result to a new variable\n",
    "z = x - y        # 5 - 3"
   ]
  },
  {
   "cell_type": "code",
   "execution_count": 18,
   "metadata": {},
   "outputs": [
    {
     "data": {
      "text/plain": [
       "2"
      ]
     },
     "execution_count": 18,
     "metadata": {},
     "output_type": "execute_result"
    }
   ],
   "source": [
    "z"
   ]
  },
  {
   "cell_type": "markdown",
   "metadata": {},
   "source": [
    "We can re-assign a value to the same variables. This will replace the existing value to its new\n",
    "value."
   ]
  },
  {
   "cell_type": "code",
   "execution_count": 19,
   "metadata": {
    "collapsed": true
   },
   "outputs": [],
   "source": [
    "x = y + 2\n",
    "x = x * x"
   ]
  },
  {
   "cell_type": "code",
   "execution_count": 20,
   "metadata": {},
   "outputs": [
    {
     "data": {
      "text/plain": [
       "25"
      ]
     },
     "execution_count": 20,
     "metadata": {},
     "output_type": "execute_result"
    }
   ],
   "source": [
    "x"
   ]
  },
  {
   "cell_type": "markdown",
   "metadata": {},
   "source": [
    "Let’s try some invalid variable names!"
   ]
  },
  {
   "cell_type": "code",
   "execution_count": 21,
   "metadata": {},
   "outputs": [
    {
     "ename": "SyntaxError",
     "evalue": "invalid syntax (<ipython-input-21-460332d99e8f>, line 1)",
     "output_type": "error",
     "traceback": [
      "\u001b[1;36m  File \u001b[1;32m\"<ipython-input-21-460332d99e8f>\"\u001b[1;36m, line \u001b[1;32m1\u001b[0m\n\u001b[1;33m    1var = 1\u001b[0m\n\u001b[1;37m       ^\u001b[0m\n\u001b[1;31mSyntaxError\u001b[0m\u001b[1;31m:\u001b[0m invalid syntax\n"
     ]
    }
   ],
   "source": [
    "1var = 1"
   ]
  },
  {
   "cell_type": "code",
   "execution_count": null,
   "metadata": {
    "collapsed": true
   },
   "outputs": [],
   "source": [
    "$var = 3"
   ]
  },
  {
   "cell_type": "markdown",
   "metadata": {},
   "source": [
    "# Interactive Hello World\n",
    "Let us make our program a little more interesting; lets get it to ask us our name and say hello to us personally.\n",
    "\n",
    "```input()``` is a built-in function that is a part of Python language. As the name suggests, ```input()``` function is used to take input from the user. Generally, we pass a string to the input function which is used as a prompt message. \n",
    "\n",
    "__Note:__ The ```input()``` function is a value-returning function and it always returns a ```string```"
   ]
  },
  {
   "cell_type": "code",
   "execution_count": 1,
   "metadata": {},
   "outputs": [
    {
     "name": "stdout",
     "output_type": "stream",
     "text": [
      "Enter your name: Rumman\n"
     ]
    }
   ],
   "source": [
    "# Ask the user to enter name\n",
    "name = input(\"Enter your name: \")"
   ]
  },
  {
   "cell_type": "code",
   "execution_count": 3,
   "metadata": {},
   "outputs": [
    {
     "name": "stdout",
     "output_type": "stream",
     "text": [
      "Hello Rumman\n"
     ]
    }
   ],
   "source": [
    "# Display greeting message\n",
    "print(\"Hello\", name)"
   ]
  },
  {
   "cell_type": "markdown",
   "metadata": {
    "collapsed": true
   },
   "source": [
    "## Booleans\n",
    "Booleans are simply True and False with capital T and Capital F – just a customized version of 1 and 0.\n"
   ]
  },
  {
   "cell_type": "code",
   "execution_count": null,
   "metadata": {
    "collapsed": true
   },
   "outputs": [],
   "source": [
    "True"
   ]
  },
  {
   "cell_type": "code",
   "execution_count": null,
   "metadata": {
    "collapsed": true
   },
   "outputs": [],
   "source": [
    "False"
   ]
  },
  {
   "cell_type": "code",
   "execution_count": null,
   "metadata": {
    "collapsed": true
   },
   "outputs": [],
   "source": [
    "10 == 10"
   ]
  },
  {
   "cell_type": "code",
   "execution_count": null,
   "metadata": {
    "collapsed": true
   },
   "outputs": [],
   "source": [
    "5 == 10"
   ]
  },
  {
   "cell_type": "code",
   "execution_count": null,
   "metadata": {
    "collapsed": true
   },
   "outputs": [],
   "source": [
    "a = 10\n",
    "b = 5\n",
    "\n",
    "a == b   "
   ]
  },
  {
   "cell_type": "markdown",
   "metadata": {},
   "source": [
    "# Comparison Operators\n",
    "\n",
    "Comparison Operators allows to compare two elements to each other, such as, greater than, less than, equal to, not equal to etc.\n",
    "\n",
    "|Operator|Usage|Description|\n",
    "|:-------|:----|:---------|\n",
    "|==|x == y| x is equal to y\n",
    "|!=|x != y| x is not equal to y\n",
    "|>|x > y|  x is greater than y\n",
    "|<|x < y|  x is less than y\n",
    "|>=|x >= y| x is greater than or equal to y\n",
    "|<=|x<=|x is less than or equal to y\n",
    "\n",
    "\n",
    "\n"
   ]
  },
  {
   "cell_type": "code",
   "execution_count": 22,
   "metadata": {
    "collapsed": true
   },
   "outputs": [],
   "source": [
    "x = 10\n",
    "y = 20"
   ]
  },
  {
   "cell_type": "code",
   "execution_count": 23,
   "metadata": {},
   "outputs": [
    {
     "data": {
      "text/plain": [
       "False"
      ]
     },
     "execution_count": 23,
     "metadata": {},
     "output_type": "execute_result"
    }
   ],
   "source": [
    "x == y # x is equal to y"
   ]
  },
  {
   "cell_type": "code",
   "execution_count": 24,
   "metadata": {},
   "outputs": [
    {
     "data": {
      "text/plain": [
       "True"
      ]
     },
     "execution_count": 24,
     "metadata": {},
     "output_type": "execute_result"
    }
   ],
   "source": [
    "x != y # x is not equal to y"
   ]
  },
  {
   "cell_type": "code",
   "execution_count": 25,
   "metadata": {},
   "outputs": [
    {
     "data": {
      "text/plain": [
       "False"
      ]
     },
     "execution_count": 25,
     "metadata": {},
     "output_type": "execute_result"
    }
   ],
   "source": [
    "x > y # x is greater than y"
   ]
  },
  {
   "cell_type": "code",
   "execution_count": 26,
   "metadata": {},
   "outputs": [
    {
     "data": {
      "text/plain": [
       "True"
      ]
     },
     "execution_count": 26,
     "metadata": {},
     "output_type": "execute_result"
    }
   ],
   "source": [
    "x < y # x is less than y"
   ]
  },
  {
   "cell_type": "code",
   "execution_count": 27,
   "metadata": {},
   "outputs": [
    {
     "data": {
      "text/plain": [
       "False"
      ]
     },
     "execution_count": 27,
     "metadata": {},
     "output_type": "execute_result"
    }
   ],
   "source": [
    "x >= y # x is greater than or equal to y"
   ]
  },
  {
   "cell_type": "code",
   "execution_count": 28,
   "metadata": {},
   "outputs": [
    {
     "data": {
      "text/plain": [
       "True"
      ]
     },
     "execution_count": 28,
     "metadata": {},
     "output_type": "execute_result"
    }
   ],
   "source": [
    "x <= y # x is less than or equal to y"
   ]
  },
  {
   "cell_type": "markdown",
   "metadata": {},
   "source": [
    "## Logical Operators\n",
    "There are three logical operators: and, or, and not\n",
    "\n",
    "![Logical Operators](operators.png)"
   ]
  },
  {
   "cell_type": "code",
   "execution_count": 31,
   "metadata": {},
   "outputs": [
    {
     "name": "stdout",
     "output_type": "stream",
     "text": [
      "False\n"
     ]
    }
   ],
   "source": [
    "x = 10\n",
    "print (x > 0 and x < 10)"
   ]
  },
  {
   "cell_type": "code",
   "execution_count": 32,
   "metadata": {},
   "outputs": [
    {
     "name": "stdout",
     "output_type": "stream",
     "text": [
      "False\n"
     ]
    }
   ],
   "source": [
    "print (not (x%2 == 0))"
   ]
  },
  {
   "cell_type": "code",
   "execution_count": 1,
   "metadata": {},
   "outputs": [
    {
     "name": "stdout",
     "output_type": "stream",
     "text": [
      "10\n",
      "True\n",
      "False\n",
      "10\n"
     ]
    }
   ],
   "source": [
    "print (10 or True) # 10\n",
    "print (10 and True) # True\n",
    "print (10 and False) # False\n",
    "print (10 or False) # 10"
   ]
  },
  {
   "cell_type": "markdown",
   "metadata": {},
   "source": [
    "# Exercise\n",
    "\n",
    "## Sales Tax\n",
    "Write a program that will ask the user to enter the amount of a purchase. The program\n",
    "should then compute the state and county sales tax. Assume the state sales tax is 5 percent\n",
    "and the county sales tax is 2.5 percent. The program should display the following:\n",
    "* The amount of the purchase\n",
    "* The state sales tax\n",
    "* The county sales tax\n",
    "* The total sales tax\n",
    "* and the total of the sale (which is the sum of the amount of purchase plus the total sales tax).\n"
   ]
  },
  {
   "cell_type": "code",
   "execution_count": 5,
   "metadata": {},
   "outputs": [
    {
     "name": "stdout",
     "output_type": "stream",
     "text": [
      "Enter the amount of purchase: 500\n",
      "State sales tax: $ 25.0\n",
      "County sales tax: $ 12.5\n",
      "Total sales tax: $ 25.0\n",
      "Total: $ 537.5\n"
     ]
    }
   ],
   "source": [
    "amount =float(input(\"Enter the amount of purchase: \"))\n",
    "state_tax = amount *0.05\n",
    "county_tax = amount *0.025\n",
    "total_tax = state_tax + county_tax\n",
    "sales_total = amount + total_tax\n",
    "print(\"State sales tax: $\", state_tax)\n",
    "print(\"County sales tax: $\", county_tax)\n",
    "print(\"Total sales tax: $\", state_tax)\n",
    "print(\"Total: $\", sales_total)"
   ]
  },
  {
   "cell_type": "markdown",
   "metadata": {},
   "source": [
    "## Tip, Tax and Total\n",
    "Write a program that calculates the total amount of a meal purchased at a restaurant. The\n",
    "program should ask the user to enter the charge for the food, and then calculate the amount\n",
    "of a 18 percent tip and 7 percent sales tax. Display each of these amounts and the total."
   ]
  },
  {
   "cell_type": "code",
   "execution_count": 3,
   "metadata": {},
   "outputs": [
    {
     "name": "stdout",
     "output_type": "stream",
     "text": [
      "Enter the total amount of meal: $1000\n",
      "Tip:  $ 180.0\n",
      "Tax:  $ 70.0\n",
      "Total:  $ 1250.0\n"
     ]
    }
   ],
   "source": [
    "cost = float(input(\"Enter the total amount of meal: $\"))\n",
    "tip = cost * 0.18\n",
    "tax = cost * 7\n",
    "total = cost + tip +tax\n",
    "print(\"Tip:  $\" , tip)\n",
    "print(\"Tax:  $\" , tax)\n",
    "print(\"Total:  $\" , total)"
   ]
  },
  {
   "cell_type": "markdown",
   "metadata": {},
   "source": [
    "## Ingredient Adjuster\n",
    "\n",
    "A cookie recipe calls for the following ingredients:\n",
    "* 1.5 cups of sugar\n",
    "* 1 cup of butter\n",
    "* 2.75 cups of flour\n",
    "\n",
    "The recipe produces 48 cookies with this amount of the ingredients. Write a program that\n",
    "asks the user how many cookies he or she wants to make, and then displays the number of\n",
    "cups of each ingredient needed for the specified number of cookies."
   ]
  },
  {
   "cell_type": "markdown",
   "metadata": {},
   "source": [
    "## Male and Female Percentages\n",
    "Write a program that asks the user for the number of males and the number of females registered\n",
    "in a class. The program should display the percentage of males and females in the class.\n",
    "\n",
    "*Hint: Suppose there are 8 males and 12 females in a class. There are 20 students in the\n",
    "class. The percentage of males can be calculated as 8 4 20 5 0.4, or 40%. The percentage\n",
    "of females can be calculated as 12 4 20 5 0.6, or 60%.*\n"
   ]
  },
  {
   "cell_type": "markdown",
   "metadata": {},
   "source": [
    "## Stock Transation Program\n",
    "Last month Joe purchased some stock in Acme Software, Inc. Here are the details of the\n",
    "purchase:\n",
    "* The number of shares that Joe purchased was 2,000.\n",
    "* When Joe purchased the stock, he paid 40.00 Dollar per share.\n",
    "* Joe paid his stockbroker a commission that amounted to 3 percent of the amount he paid for the stock.\n",
    "\n",
    "Two weeks later Joe sold the stock. Here are the details of the sale:\n",
    "* The number of shares that Joe sold was 2,000.\n",
    "* He sold the stock for 42.75 Dollar per share.\n",
    "* He paid his stockbroker another commission that amounted to 3 percent of the amount he received for the stock.\n",
    "\n",
    "Write a program that displays the following information:\n",
    "* The amount of money Joe paid for the stock.\n",
    "* The amount of commission Joe paid his broker when he bought the stock.\n",
    "* The amount that Joe sold the stock for.\n",
    "* The amount of commission Joe paid his broker when he sold the stock.\n",
    "* Display the amount of money that Joe had left when he sold the stock and paid his broker (both times). If this amount is positive, then Joe made a profit. If the amount is negative, then Joe lost money."
   ]
  },
  {
   "cell_type": "code",
   "execution_count": null,
   "metadata": {},
   "outputs": [],
   "source": [
    "amount_paid_for_stock = 2000 * 40.00\n",
    "print(\"\\nAmount of money paid for the stock = $\", \n",
    "       format(amount_paid_for_stock, ',.2f'))\n",
    "commission_paid_when_bought = amount_paid_for_stock * 0.03\n",
    "print('Amount of commission paid to broker when Joe bought the stock = $', \n",
    "       format(commission_paid_when_bought, ',.2f'))\n",
    "price_per_share = 42.75\n",
    "amount_stock_sold_for = 2000 * 42.75\n",
    "print(\"Amount for which Joe sold the stock = $\", \n",
    "       format(amount_stock_sold_for, ',.2f'))\n",
    "commission_paid_when_sold = amount_stock_sold_for *0.03\n",
    "print('Amount of commission paid to broker when Joe sold the stock = $',\n",
    "       format(commission_paid_when_sold, ',.2f'))\n",
    "\n",
    "total_amount_left = amount_stock_sold_for - \\\n",
    "                   (commission_paid_when_bought + \\\n",
    "                    commission_paid_when_sold)\n",
    "\n",
    "print('\\nTotal leftover =', \n",
    "      format(total_amount_left, ',.2f'), '\\nJoe made a profit.\\n')\n",
    "\n"
   ]
  },
  {
   "cell_type": "code",
   "execution_count": null,
   "metadata": {},
   "outputs": [],
   "source": []
  }
 ],
 "metadata": {
  "kernelspec": {
   "display_name": "Python 3",
   "language": "python",
   "name": "python3"
  },
  "language_info": {
   "codemirror_mode": {
    "name": "ipython",
    "version": 3
   },
   "file_extension": ".py",
   "mimetype": "text/x-python",
   "name": "python",
   "nbconvert_exporter": "python",
   "pygments_lexer": "ipython3",
   "version": "3.8.8"
  }
 },
 "nbformat": 4,
 "nbformat_minor": 2
}
